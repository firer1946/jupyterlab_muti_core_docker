{
 "cells": [
  {
   "cell_type": "markdown",
   "metadata": {
    "coq_kernel_metadata": {
     "auto_roll_back": true
    }
   },
   "source": [
    "# Proprietà operatore +"
   ]
  },
  {
   "cell_type": "code",
   "execution_count": 1,
   "metadata": {
    "coq_kernel_metadata": {
     "auto_roll_back": true,
     "cell_id": "d2b07935e072452e8bb16a6fa1b03a14",
     "evaluated": true,
     "execution_id": "844a1befa85242f7805e635613250d68",
     "rolled_back": false
    }
   },
   "outputs": [
    {
     "data": {
      "text/html": [
       "\n",
       "<div class=\"coq_kernel_output_area\">\n",
       "    <pre></pre>\n",
       "</div>\n",
       "\n",
       "<div class=\"coq_kernel_rich_cell_output coq_kernel_status_message_area\" style=\"padding: 5px 0px;\">\n",
       "    <i class=\"fa-check fa text-success\"></i>\n",
       "    <span>Cell evaluated.</span>\n",
       "</div>\n",
       "\n",
       "<div class=\"coq_kernel_rich_cell_output coq_kernel_status_message_area coq_kernel_rolled_back_status_message\" style=\"padding: 5px 0px; display: none;\">\n",
       "    <i class=\"fa-exclamation-circle fa text-info\"></i>\n",
       "    <span>Cell rolled back.</span>\n",
       "</div>\n",
       "\n",
       "<div class=\"coq_kernel_rich_cell_output coq_kernel_roll_back_controls_area\" style=\"display: none; position: relative;\">\n",
       "    <button class=\"btn btn-default btn-xs coq_kernel_roll_back_button\" onclick=\"CoqKernel.roll_back(this)\">\n",
       "        <i class=\"fa-step-backward fa\"></i>\n",
       "        <span class=\"toolbar-btn-label\">Rollback cell</span>\n",
       "    </button>\n",
       "\n",
       "    <div style=\"display: inline-block; vertical-align: middle; padding-left: 0; padding-right: 0;\">\n",
       "      <input class=\"coq_kernel_auto_roll_back_checkbox\" type=\"checkbox\" value=\"\" onchange=\"CoqKernel.toggle_auto_roll_back(this)\" checked>\n",
       "      <label\">Auto rollback</label>\n",
       "    </div>\n",
       "</div>\n"
      ],
      "text/plain": []
     },
     "execution_count": 228,
     "metadata": {
      "coq_kernel_evaluated": true,
      "coq_kernel_execution_id": "844a1befa85242f7805e635613250d68",
      "coq_kernel_rolled_back": false
     },
     "output_type": "execute_result"
    }
   ],
   "source": [
    "Theorem plus_assoc : forall a b c, a + (b + c) = a + b + c.\n",
    "Proof.\n",
    "    intros.\n",
    "    induction a.\n",
    "    (* Case Z *)\n",
    "    reflexivity.\n",
    "    (* Case S a *) \n",
    "    simpl. \n",
    "    rewrite IHa. \n",
    "    reflexivity.\n",
    "Qed."
   ]
  },
  {
   "cell_type": "code",
   "execution_count": 228,
   "metadata": {
    "coq_kernel_metadata": {
     "auto_roll_back": true,
     "cell_id": "a55c74d090b94370b3c97146309d1631",
     "evaluated": true,
     "execution_id": "af30d28280584358821b69ecc9f5b24c",
     "rolled_back": false
    }
   },
   "outputs": [
    {
     "data": {
      "text/html": [
       "\n",
       "<div class=\"coq_kernel_output_area\">\n",
       "    <pre></pre>\n",
       "</div>\n",
       "\n",
       "<div class=\"coq_kernel_rich_cell_output coq_kernel_status_message_area\" style=\"padding: 5px 0px;\">\n",
       "    <i class=\"fa-check fa text-success\"></i>\n",
       "    <span>Cell evaluated.</span>\n",
       "</div>\n",
       "\n",
       "<div class=\"coq_kernel_rich_cell_output coq_kernel_status_message_area coq_kernel_rolled_back_status_message\" style=\"padding: 5px 0px; display: none;\">\n",
       "    <i class=\"fa-exclamation-circle fa text-info\"></i>\n",
       "    <span>Cell rolled back.</span>\n",
       "</div>\n",
       "\n",
       "<div class=\"coq_kernel_rich_cell_output coq_kernel_roll_back_controls_area\" style=\"display: none; position: relative;\">\n",
       "    <button class=\"btn btn-default btn-xs coq_kernel_roll_back_button\" onclick=\"CoqKernel.roll_back(this)\">\n",
       "        <i class=\"fa-step-backward fa\"></i>\n",
       "        <span class=\"toolbar-btn-label\">Rollback cell</span>\n",
       "    </button>\n",
       "\n",
       "    <div style=\"display: inline-block; vertical-align: middle; padding-left: 0; padding-right: 0;\">\n",
       "      <input class=\"coq_kernel_auto_roll_back_checkbox\" type=\"checkbox\" value=\"\" onchange=\"CoqKernel.toggle_auto_roll_back(this)\" checked>\n",
       "      <label\">Auto rollback</label>\n",
       "    </div>\n",
       "</div>\n"
      ],
      "text/plain": []
     },
     "execution_count": 317,
     "metadata": {
      "coq_kernel_evaluated": true,
      "coq_kernel_execution_id": "af30d28280584358821b69ecc9f5b24c",
      "coq_kernel_rolled_back": false
     },
     "output_type": "execute_result"
    }
   ],
   "source": [
    "Theorem plus_assoc1 : forall a b c, a + (b + c) = a + b + c.\n",
    "Proof.\n",
    "    intros.\n",
    "    induction a.\n",
    "    reflexivity.\n",
    "    \n",
    "    simpl.\n",
    "    rewrite IHa.\n",
    "    reflexivity.\n",
    "Qed."
   ]
  },
  {
   "cell_type": "code",
   "execution_count": 171,
   "metadata": {
    "coq_kernel_metadata": {
     "auto_roll_back": true,
     "cell_id": "20eedd132139413e8df0d0de5850371a",
     "evaluated": true,
     "execution_id": "4f01c616888a4b5e88b8450e84c18e82",
     "rolled_back": true
    }
   },
   "outputs": [
    {
     "data": {
      "text/html": [
       "\n",
       "<div class=\"coq_kernel_rich_cell_output coq_kernel_status_message_area coq_kernel_rolled_back_status_message\" style=\"padding: 5px 0px;\">\n",
       "    <i class=\"fa-exclamation-circle fa text-info\"></i>\n",
       "    <span>Cell rolled back.</span>\n",
       "</div>\n"
      ],
      "text/plain": [
       "Cell rolled back."
      ]
     },
     "execution_count": 191,
     "metadata": {
      "coq_kernel_evaluated": true,
      "coq_kernel_execution_id": "4f01c616888a4b5e88b8450e84c18e82",
      "coq_kernel_rolled_back": true
     },
     "output_type": "execute_result"
    }
   ],
   "source": [
    "Theorem plus_comm : forall a b, a + b = b + a.\n",
    "Proof.\n",
    "  induction a.\n",
    "    (* Case Z *)\n",
    "      induction b.\n",
    "        (* Case Z *)   reflexivity.\n",
    "        (* Case S b *) simpl. rewrite <- IHb. reflexivity.\n",
    "    (* Case a = S a *)\n",
    "      induction b.\n",
    "        (* Case Z  *)\n",
    "          simpl. rewrite (IHa 0). reflexivity.\n",
    "        (* Case S b *)\n",
    "          simpl. rewrite <- IHb.\n",
    "          simpl. rewrite (IHa (S b)).\n",
    "          simpl. rewrite (IHa b).\n",
    "          reflexivity.\n",
    "Qed.\n"
   ]
  },
  {
   "cell_type": "code",
   "execution_count": 191,
   "metadata": {
    "coq_kernel_metadata": {
     "auto_roll_back": true,
     "cell_id": "171b0f809339408485027eda0fb0d0db",
     "evaluated": true,
     "execution_id": "52348918e74b430081775363658e763e",
     "rolled_back": true
    }
   },
   "outputs": [
    {
     "data": {
      "text/html": [
       "\n",
       "<div class=\"coq_kernel_rich_cell_output coq_kernel_status_message_area coq_kernel_rolled_back_status_message\" style=\"padding: 5px 0px;\">\n",
       "    <i class=\"fa-exclamation-circle fa text-info\"></i>\n",
       "    <span>Cell rolled back.</span>\n",
       "</div>\n"
      ],
      "text/plain": [
       "Cell rolled back."
      ]
     },
     "execution_count": 213,
     "metadata": {
      "coq_kernel_evaluated": true,
      "coq_kernel_execution_id": "52348918e74b430081775363658e763e",
      "coq_kernel_rolled_back": true
     },
     "output_type": "execute_result"
    }
   ],
   "source": [
    "Theorem mul_comm : forall a b, a * b = b * a.\n",
    "Proof.\n",
    "  induction a.\n",
    "  (* Case Z *)\n",
    "    induction b.\n",
    "      (* Case Z *)   reflexivity.\n",
    "      (* Case S b *) simpl. rewrite <- IHb. reflexivity.\n",
    "  (* Case S a *)\n",
    "    induction b.\n",
    "      (* Case Z *)\n",
    "        simpl. rewrite (IHa 0). reflexivity.\n",
    "      (* Case S b *)\n",
    "        simpl. rewrite <- IHb.\n",
    "        rewrite (IHa (S b)).\n",
    "        simpl. rewrite (IHa b).\n",
    "        rewrite (plus_assoc b a (b * a)).\n",
    "        rewrite (plus_assoc a b (b * a)).\n",
    "        rewrite (plus_comm a b).\n",
    "        reflexivity.\n",
    "Qed."
   ]
  },
  {
   "cell_type": "code",
   "execution_count": 213,
   "metadata": {
    "coq_kernel_metadata": {
     "auto_roll_back": true,
     "cell_id": "01df41ff4c944dfb9bf7d4a824b45911",
     "evaluated": true,
     "execution_id": "2ecd392d622145ba825b9913b551056b",
     "rolled_back": true
    }
   },
   "outputs": [
    {
     "data": {
      "text/html": [
       "\n",
       "<div class=\"coq_kernel_rich_cell_output coq_kernel_status_message_area coq_kernel_rolled_back_status_message\" style=\"padding: 5px 0px;\">\n",
       "    <i class=\"fa-exclamation-circle fa text-info\"></i>\n",
       "    <span>Cell rolled back.</span>\n",
       "</div>\n"
      ],
      "text/plain": [
       "Cell rolled back."
      ]
     },
     "execution_count": 219,
     "metadata": {
      "coq_kernel_evaluated": true,
      "coq_kernel_execution_id": "2ecd392d622145ba825b9913b551056b",
      "coq_kernel_rolled_back": true
     },
     "output_type": "execute_result"
    }
   ],
   "source": [
    "Require Import Arith.\n",
    "\n",
    "Theorem plus_comm2 : forall a b, a * b = b * a.\n",
    "Proof. intros. ring. Qed."
   ]
  }
 ],
 "metadata": {
  "kernelspec": {
   "display_name": "Coq",
   "language": "coq",
   "name": "coq"
  },
  "language_info": {
   "file_extension": ".v",
   "mimetype": "text/x-coq",
   "name": "coq",
   "version": "8.6"
  }
 },
 "nbformat": 4,
 "nbformat_minor": 2
}
